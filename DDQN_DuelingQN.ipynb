{
  "cells": [
    {
      "cell_type": "code",
      "execution_count": 4,
      "metadata": {
        "colab": {
          "base_uri": "https://localhost:8080/"
        },
        "id": "ZywqW1I9JRdt",
        "outputId": "bb638e45-3756-425d-fa0d-0fc022b711e4"
      },
      "outputs": [
        {
          "output_type": "stream",
          "name": "stdout",
          "text": [
            "Collecting gymnasium\n",
            "  Downloading gymnasium-0.29.1-py3-none-any.whl (953 kB)\n",
            "\u001b[?25l     \u001b[90m━━━━━━━━━━━━━━━━━━━━━━━━━━━━━━━━━━━━━━━━\u001b[0m \u001b[32m0.0/953.9 kB\u001b[0m \u001b[31m?\u001b[0m eta \u001b[36m-:--:--\u001b[0m\r\u001b[2K     \u001b[91m━━━━━━\u001b[0m\u001b[90m╺\u001b[0m\u001b[90m━━━━━━━━━━━━━━━━━━━━━━━━━━━━━━━━━\u001b[0m \u001b[32m153.6/953.9 kB\u001b[0m \u001b[31m4.4 MB/s\u001b[0m eta \u001b[36m0:00:01\u001b[0m\r\u001b[2K     \u001b[91m━━━━━━━━━━━━━━━━━━━━━━━━━━━━━━━━━━━━━━━\u001b[0m\u001b[91m╸\u001b[0m \u001b[32m952.3/953.9 kB\u001b[0m \u001b[31m15.9 MB/s\u001b[0m eta \u001b[36m0:00:01\u001b[0m\r\u001b[2K     \u001b[90m━━━━━━━━━━━━━━━━━━━━━━━━━━━━━━━━━━━━━━━━\u001b[0m \u001b[32m953.9/953.9 kB\u001b[0m \u001b[31m13.2 MB/s\u001b[0m eta \u001b[36m0:00:00\u001b[0m\n",
            "\u001b[?25hRequirement already satisfied: numpy>=1.21.0 in /usr/local/lib/python3.10/dist-packages (from gymnasium) (1.23.5)\n",
            "Requirement already satisfied: cloudpickle>=1.2.0 in /usr/local/lib/python3.10/dist-packages (from gymnasium) (2.2.1)\n",
            "Requirement already satisfied: typing-extensions>=4.3.0 in /usr/local/lib/python3.10/dist-packages (from gymnasium) (4.5.0)\n",
            "Collecting farama-notifications>=0.0.1 (from gymnasium)\n",
            "  Downloading Farama_Notifications-0.0.4-py3-none-any.whl (2.5 kB)\n",
            "Installing collected packages: farama-notifications, gymnasium\n",
            "Successfully installed farama-notifications-0.0.4 gymnasium-0.29.1\n"
          ]
        }
      ],
      "source": [
        "!pip install gymnasium"
      ]
    },
    {
      "cell_type": "code",
      "execution_count": 5,
      "metadata": {
        "colab": {
          "base_uri": "https://localhost:8080/"
        },
        "id": "hVpJMhUcQ9X6",
        "outputId": "e4cfe20b-2c35-4e95-88fa-011e4d9d0494"
      },
      "outputs": [
        {
          "output_type": "stream",
          "name": "stdout",
          "text": [
            "Requirement already satisfied: gymnasium[atari] in /usr/local/lib/python3.10/dist-packages (0.29.1)\n",
            "Requirement already satisfied: numpy>=1.21.0 in /usr/local/lib/python3.10/dist-packages (from gymnasium[atari]) (1.23.5)\n",
            "Requirement already satisfied: cloudpickle>=1.2.0 in /usr/local/lib/python3.10/dist-packages (from gymnasium[atari]) (2.2.1)\n",
            "Requirement already satisfied: typing-extensions>=4.3.0 in /usr/local/lib/python3.10/dist-packages (from gymnasium[atari]) (4.5.0)\n",
            "Requirement already satisfied: farama-notifications>=0.0.1 in /usr/local/lib/python3.10/dist-packages (from gymnasium[atari]) (0.0.4)\n",
            "Collecting shimmy[atari]<1.0,>=0.1.0 (from gymnasium[atari])\n",
            "  Downloading Shimmy-0.2.1-py3-none-any.whl (25 kB)\n",
            "Collecting ale-py~=0.8.1 (from shimmy[atari]<1.0,>=0.1.0->gymnasium[atari])\n",
            "  Downloading ale_py-0.8.1-cp310-cp310-manylinux_2_17_x86_64.manylinux2014_x86_64.whl (1.7 MB)\n",
            "\u001b[2K     \u001b[90m━━━━━━━━━━━━━━━━━━━━━━━━━━━━━━━━━━━━━━━━\u001b[0m \u001b[32m1.7/1.7 MB\u001b[0m \u001b[31m25.3 MB/s\u001b[0m eta \u001b[36m0:00:00\u001b[0m\n",
            "\u001b[?25hRequirement already satisfied: importlib-resources in /usr/local/lib/python3.10/dist-packages (from ale-py~=0.8.1->shimmy[atari]<1.0,>=0.1.0->gymnasium[atari]) (6.1.1)\n",
            "Installing collected packages: ale-py, shimmy\n",
            "Successfully installed ale-py-0.8.1 shimmy-0.2.1\n",
            "Collecting autorom[accept-rom-license]\n",
            "  Downloading AutoROM-0.6.1-py3-none-any.whl (9.4 kB)\n",
            "Requirement already satisfied: click in /usr/local/lib/python3.10/dist-packages (from autorom[accept-rom-license]) (8.1.7)\n",
            "Requirement already satisfied: requests in /usr/local/lib/python3.10/dist-packages (from autorom[accept-rom-license]) (2.31.0)\n",
            "Collecting AutoROM.accept-rom-license (from autorom[accept-rom-license])\n",
            "  Downloading AutoROM.accept-rom-license-0.6.1.tar.gz (434 kB)\n",
            "\u001b[2K     \u001b[90m━━━━━━━━━━━━━━━━━━━━━━━━━━━━━━━━━━━━━━━━\u001b[0m \u001b[32m434.7/434.7 kB\u001b[0m \u001b[31m8.2 MB/s\u001b[0m eta \u001b[36m0:00:00\u001b[0m\n",
            "\u001b[?25h  Installing build dependencies ... \u001b[?25l\u001b[?25hdone\n",
            "  Getting requirements to build wheel ... \u001b[?25l\u001b[?25hdone\n",
            "  Preparing metadata (pyproject.toml) ... \u001b[?25l\u001b[?25hdone\n",
            "Requirement already satisfied: charset-normalizer<4,>=2 in /usr/local/lib/python3.10/dist-packages (from requests->autorom[accept-rom-license]) (3.3.2)\n",
            "Requirement already satisfied: idna<4,>=2.5 in /usr/local/lib/python3.10/dist-packages (from requests->autorom[accept-rom-license]) (3.4)\n",
            "Requirement already satisfied: urllib3<3,>=1.21.1 in /usr/local/lib/python3.10/dist-packages (from requests->autorom[accept-rom-license]) (2.0.7)\n",
            "Requirement already satisfied: certifi>=2017.4.17 in /usr/local/lib/python3.10/dist-packages (from requests->autorom[accept-rom-license]) (2023.7.22)\n",
            "Building wheels for collected packages: AutoROM.accept-rom-license\n",
            "  Building wheel for AutoROM.accept-rom-license (pyproject.toml) ... \u001b[?25l\u001b[?25hdone\n",
            "  Created wheel for AutoROM.accept-rom-license: filename=AutoROM.accept_rom_license-0.6.1-py3-none-any.whl size=446660 sha256=4878caa2ae3c9307c5d5cb69ebc80b72a8cb03a5ce95ff4b29e46e369e6c093c\n",
            "  Stored in directory: /root/.cache/pip/wheels/6b/1b/ef/a43ff1a2f1736d5711faa1ba4c1f61be1131b8899e6a057811\n",
            "Successfully built AutoROM.accept-rom-license\n",
            "Installing collected packages: AutoROM.accept-rom-license, autorom\n",
            "Successfully installed AutoROM.accept-rom-license-0.6.1 autorom-0.6.1\n"
          ]
        }
      ],
      "source": [
        "!pip install gymnasium[atari]\n",
        "!pip install autorom[accept-rom-license]"
      ]
    },
    {
      "cell_type": "code",
      "execution_count": 6,
      "metadata": {
        "colab": {
          "base_uri": "https://localhost:8080/"
        },
        "id": "4YAbgPMQRJhR",
        "outputId": "a66ef1f2-ce7f-4700-b674-c2cb652bf486"
      },
      "outputs": [
        {
          "output_type": "stream",
          "name": "stdout",
          "text": [
            "Requirement already satisfied: tqdm in /usr/local/lib/python3.10/dist-packages (4.66.1)\n"
          ]
        }
      ],
      "source": [
        "\n",
        "!pip install tqdm"
      ]
    },
    {
      "cell_type": "code",
      "source": [
        "!pip install -q swig\n",
        "!pip install -q gymnasium[box2d]"
      ],
      "metadata": {
        "colab": {
          "base_uri": "https://localhost:8080/"
        },
        "id": "vskisuEfoK9X",
        "outputId": "543e59cf-4184-41cf-ec47-dce6ec4e5ba5"
      },
      "execution_count": 7,
      "outputs": [
        {
          "output_type": "stream",
          "name": "stdout",
          "text": [
            "\u001b[2K     \u001b[90m━━━━━━━━━━━━━━━━━━━━━━━━━━━━━━━━━━━━━━━━\u001b[0m \u001b[32m1.8/1.8 MB\u001b[0m \u001b[31m23.4 MB/s\u001b[0m eta \u001b[36m0:00:00\u001b[0m\n",
            "\u001b[2K     \u001b[90m━━━━━━━━━━━━━━━━━━━━━━━━━━━━━━━━━━━━━━━━\u001b[0m \u001b[32m374.4/374.4 kB\u001b[0m \u001b[31m6.7 MB/s\u001b[0m eta \u001b[36m0:00:00\u001b[0m\n",
            "\u001b[?25h  Preparing metadata (setup.py) ... \u001b[?25l\u001b[?25hdone\n",
            "  Building wheel for box2d-py (setup.py) ... \u001b[?25l\u001b[?25hdone\n"
          ]
        }
      ]
    },
    {
      "cell_type": "code",
      "execution_count": 8,
      "metadata": {
        "id": "cMbrUDi3qXMV"
      },
      "outputs": [],
      "source": [
        "import numpy as np\n",
        "import gymnasium as gym\n",
        "import matplotlib.pyplot as plt\n",
        "import torch\n",
        "import torch.nn as nn\n",
        "import random\n",
        "from tqdm import tqdm\n",
        "\n",
        "import random"
      ]
    },
    {
      "cell_type": "code",
      "execution_count": null,
      "metadata": {
        "id": "QqcwB0inSIhm"
      },
      "outputs": [],
      "source": [
        "from ale_py import ALEInterface\n",
        "ale = ALEInterface()\n",
        "\n",
        "from ale_py.roms import SpaceInvaders\n",
        "ale.loadROM(SpaceInvaders)"
      ]
    },
    {
      "cell_type": "code",
      "source": [
        "if torch.cuda.is_available():\n",
        "    device = torch.device(\"cuda\")\n",
        "    print(\"GPU is available!\")\n",
        "else:\n",
        "    device = torch.device(\"cpu\")\n",
        "    print(\"GPU is not available. Switching to CPU.\")"
      ],
      "metadata": {
        "colab": {
          "base_uri": "https://localhost:8080/"
        },
        "id": "r1PtSn_EODWy",
        "outputId": "9d8ff101-4c73-433f-d857-7e7d72889129"
      },
      "execution_count": 9,
      "outputs": [
        {
          "output_type": "stream",
          "name": "stdout",
          "text": [
            "GPU is not available. Switching to CPU.\n"
          ]
        },
        {
          "output_type": "stream",
          "name": "stderr",
          "text": [
            "/usr/local/lib/python3.10/dist-packages/ipykernel/ipkernel.py:283: DeprecationWarning: `should_run_async` will not call `transform_cell` automatically in the future. Please pass the result to `transformed_cell` argument and any exception that happen during thetransform in `preprocessing_exc_tuple` in IPython 7.17 and above.\n",
            "  and should_run_async(code)\n"
          ]
        }
      ]
    },
    {
      "cell_type": "code",
      "execution_count": 25,
      "metadata": {
        "id": "TaCWKZBoVEhZ"
      },
      "outputs": [],
      "source": [
        "class DQN(nn.Module):\n",
        "    def __init__(self, input_size, output_size):\n",
        "        super(DQN, self).__init__()\n",
        "\n",
        "        # Define linear layers\n",
        "        self.fc1 = nn.Linear(input_size, 128)\n",
        "        self.relu = nn.ReLU()\n",
        "        self.fc2 = nn.Linear(128, 128)\n",
        "        self.fc3 = nn.Linear(128,64)\n",
        "        self.fc4  = nn.Linear(64,output_size)\n",
        "\n",
        "    def forward(self, x):\n",
        "        # Forward pass through the network\n",
        "        x = self.fc1(x)\n",
        "        x = self.relu(x)\n",
        "        x = self.fc2(x)\n",
        "        x = self.relu(x)\n",
        "        x = self.fc3(x)\n",
        "        x=self.relu(x)\n",
        "        x=self.fc4(x)\n",
        "        return x"
      ]
    },
    {
      "cell_type": "code",
      "execution_count": 26,
      "metadata": {
        "id": "Wgmcv3pKPa3D"
      },
      "outputs": [],
      "source": [
        "class ExperienceReplay:\n",
        "    def __init__(self):\n",
        "      self.buffer = []\n",
        "\n",
        "\n",
        "    def push(self, state, action, reward, next_state,done):\n",
        "\n",
        "        self.buffer.append((state, action, reward, next_state,done))\n",
        "\n",
        "\n",
        "    def sample(self, batch_size):\n",
        "        batch = random.sample(self.buffer, batch_size)\n",
        "\n",
        "        return batch\n",
        "\n",
        "\n",
        "    def __len__(self):\n",
        "        return len(self.buffer)"
      ]
    },
    {
      "cell_type": "code",
      "execution_count": 29,
      "metadata": {
        "id": "poU8_IsPRGhl"
      },
      "outputs": [],
      "source": [
        "\n",
        "class DDQN:\n",
        "  def __init__(self,input_size,output_size,env,gamma,tau,batch_size,decay):\n",
        "\n",
        "\n",
        "      self.output_size = output_size\n",
        "      self.input_size = input_size\n",
        "\n",
        "      self.Primary_Agent = DQN(self.input_size,self.output_size).to(device)\n",
        "      self.optimizer  = torch.optim.Adam(self.Primary_Agent.parameters(), lr=0.05)\n",
        "\n",
        "      self.Target_Agent = DQN(self.input_size,self.output_size).to(device)\n",
        "\n",
        "\n",
        "\n",
        "      self.env  =env\n",
        "      self.gamma = gamma\n",
        "      self.tau = tau\n",
        "\n",
        "\n",
        "      self.batch_size = batch_size\n",
        "      self.ExperienceReplayer = ExperienceReplay()\n",
        "      self.target_network_update_period = 4\n",
        "\n",
        "\n",
        "      self.decay = decay\n",
        "      self.max_epsilon =1.0\n",
        "      self.min_epsilon = 0.01\n",
        "\n",
        "      self.criterion = nn.MSELoss()\n",
        "      # self.epsilon = 0.99\n",
        "\n",
        "\n",
        "  def Train(self,episodes):\n",
        "    Episodes = []\n",
        "    Rewards = []\n",
        "    self.episodes = episodes\n",
        "\n",
        "\n",
        "    for episode in tqdm(range(self.episodes)):\n",
        "      self.epsilon = self.min_epsilon + (self.max_epsilon-self.min_epsilon)*np.exp(-self.decay*episode)\n",
        "      # self.epsilon *= self.decay\n",
        "      Episodes.append(episode)\n",
        "      curr_state = self.env.reset()\n",
        "      self.ind =0\n",
        "      curr_state = curr_state[0]\n",
        "\n",
        "      Reward =0\n",
        "\n",
        "      while(True):\n",
        "\n",
        "        curr_state = torch.tensor(curr_state, dtype=torch.float32)\n",
        "        observation = torch.unsqueeze(curr_state, dim=0).to(device)\n",
        "\n",
        "        Q_value = self.Primary_Agent.forward(observation)\n",
        "\n",
        "\n",
        "        final_action = np.argmax(Q_value.cpu().detach().numpy(),axis=1)[0]\n",
        "\n",
        "\n",
        "\n",
        "\n",
        "        random_variable = np.random.random()\n",
        "        if(random_variable<=self.epsilon):\n",
        "          final_action = random.randint(0, 3)\n",
        "\n",
        "\n",
        "\n",
        "\n",
        "        next_state, reward, terminated,truncated,info = self.env.step(final_action)\n",
        "        Reward+=reward\n",
        "        if(terminated or truncated):\n",
        "          done =1\n",
        "        else:\n",
        "          done=0\n",
        "\n",
        "        next_state = torch.tensor(curr_state, dtype=torch.float32)\n",
        "        self.ExperienceReplayer.push(curr_state,torch.tensor(final_action,dtype=torch.int64),reward,next_state,done)\n",
        "        curr_state = next_state\n",
        "\n",
        "        self.ind+=1\n",
        "\n",
        "        if((self.ExperienceReplayer.__len__()>=self.batch_size) and (not (self.ind % self.target_network_update_period))):\n",
        "\n",
        "          Batch = self.ExperienceReplayer.sample(self.batch_size)\n",
        "          current_states,actions,rewards,next_states,done  = zip(*Batch)\n",
        "\n",
        "\n",
        "\n",
        "\n",
        "          current_states = torch.stack(current_states, dim=0).to(device)\n",
        "          next_states = torch.stack(next_states,dim=0).to(device)\n",
        "          actions = torch.tensor(actions,dtype=torch.int64).to(device)\n",
        "          rewards = torch.tensor(rewards, dtype=torch.float32).to(device)\n",
        "          done = torch.tensor(done,dtype=torch.float32).to(device)\n",
        "\n",
        "\n",
        "\n",
        "          Q1_value= self.Target_Agent.forward(next_states)\n",
        "          Next_best_actions = np.argmax(Q1_value.cpu().detach().numpy(),axis=1)\n",
        "          Next_best_actions = torch.tensor(Next_best_actions,dtype=torch.int64).to(device)\n",
        "\n",
        "\n",
        "\n",
        "          Next_Q_values = self.Primary_Agent.forward(next_states)\n",
        "          Current_Q_values = self.Primary_Agent.forward(current_states)\n",
        "          Primary_Q_values = Current_Q_values.gather(1,actions.unsqueeze(1))\n",
        "\n",
        "          Q_values  = Next_Q_values.gather(1,Next_best_actions.unsqueeze(1))\n",
        "          A = self.gamma*Q_values\n",
        "          B  = (1-done).unsqueeze(1)\n",
        "          C = A*B\n",
        "          rewards = rewards.unsqueeze(1)\n",
        "\n",
        "          Expected_Q_values =  rewards+C\n",
        "\n",
        "\n",
        "\n",
        "\n",
        "          Batch_loss = self.criterion(Primary_Q_values,Expected_Q_values)\n",
        "\n",
        "          self.optimizer.zero_grad()\n",
        "          Batch_loss.backward()\n",
        "\n",
        "          # Update model parameters\n",
        "          self.optimizer.step()\n",
        "          Next_best_actions = Next_best_actions.cpu()\n",
        "          current_states = current_states.cpu()\n",
        "          next_states = next_states.cpu()\n",
        "          actions = actions.cpu()\n",
        "          rewards = rewards.cpu()\n",
        "          done = done.cpu()\n",
        "\n",
        "\n",
        "\n",
        "          observation = observation.cpu()\n",
        "\n",
        "          for tp, lp in zip(self.Target_Agent.parameters(), self.Primary_Agent.parameters()):\n",
        "                tp.data.copy_(self.tau*lp.data + (1.0-self.tau)*tp.data)\n",
        "\n",
        "\n",
        "\n",
        "\n",
        "        if(terminated or truncated):\n",
        "          Rewards.append(Reward)\n",
        "          break\n",
        "    #   # print(\"Episode reward : \"  ,Reward)\n",
        "\n",
        "    plt.plot(Episodes, Rewards, label='Line Plot')\n",
        "\n",
        "    # Add labels and title\n",
        "    plt.xlabel('Episode')\n",
        "    plt.ylabel('Episode Reward')\n",
        "    plt.title('Double DQNReward vs Episodes')\n",
        "\n",
        "    # Add a legend\n",
        "    plt.legend()\n",
        "\n",
        "    # Display the plot\n",
        "    plt.show()\n",
        "\n",
        "\n",
        "\n",
        "\n",
        "\n",
        "  def Test(self):\n",
        "    curr_state = self.env.reset()\n",
        "\n",
        "    curr_state = curr_state[0]\n",
        "\n",
        "    Reward =0\n",
        "    ind=0\n",
        "    while(True):\n",
        "      curr_state = torch.tensor(curr_state, dtype=torch.float32)\n",
        "      observation = torch.unsqueeze(curr_state, dim=0).to(device)\n",
        "\n",
        "      Q_value = self.Primary_Agent.forward(observation)\n",
        "\n",
        "      final_action = np.argmax(Q_value.cpu().detach().numpy(),axis=1)[0]\n",
        "\n",
        "      next_state, reward, terminated,truncated,info = self.env.step(final_action)\n",
        "      Reward+=reward\n",
        "\n",
        "\n",
        "      ind+=1\n",
        "      if(truncated or terminated):\n",
        "        break\n",
        "      curr_state = next_state\n",
        "\n",
        "    return Reward\n"
      ]
    },
    {
      "cell_type": "code",
      "execution_count": 30,
      "metadata": {
        "colab": {
          "base_uri": "https://localhost:8080/",
          "height": 596
        },
        "id": "Dsz2jBDFihVl",
        "outputId": "4e6974d8-58b9-4406-b8e3-acc16f01b6f8"
      },
      "outputs": [
        {
          "output_type": "stream",
          "name": "stderr",
          "text": [
            "  0%|          | 0/1000 [00:00<?, ?it/s]<ipython-input-29-60ea1c782e6e>:76: UserWarning: To copy construct from a tensor, it is recommended to use sourceTensor.clone().detach() or sourceTensor.clone().detach().requires_grad_(True), rather than torch.tensor(sourceTensor).\n",
            "  next_state = torch.tensor(curr_state, dtype=torch.float32)\n",
            "<ipython-input-29-60ea1c782e6e>:51: UserWarning: To copy construct from a tensor, it is recommended to use sourceTensor.clone().detach() or sourceTensor.clone().detach().requires_grad_(True), rather than torch.tensor(sourceTensor).\n",
            "  curr_state = torch.tensor(curr_state, dtype=torch.float32)\n",
            "100%|██████████| 1000/1000 [01:04<00:00, 15.49it/s]\n"
          ]
        },
        {
          "output_type": "display_data",
          "data": {
            "text/plain": [
              "<Figure size 640x480 with 1 Axes>"
            ],
            "image/png": "[encoded data removed]"
          },
          "metadata": {}
        },
        {
          "output_type": "stream",
          "name": "stdout",
          "text": [
            "-127.71259682227875\n"
          ]
        }
      ],
      "source": [
        "\n",
        "#lists all devices being used in this cell->helps verify if gpu is being used\n",
        "# env = gym.make('MountainCar-v0')\n",
        "env = gym.make( \"LunarLander-v2\")\n",
        "gamma=0.99\n",
        "tau=0.4\n",
        "Episodes=1000\n",
        "\n",
        "batch_size = 10\n",
        "input_size = 8\n",
        "output_size=4\n",
        "\n",
        "decay = 0.4\n",
        "Game1 = DDQN(input_size,output_size,env,gamma,tau,batch_size,decay)\n",
        "Game1.Train(Episodes)\n",
        "Reward = Game1.Test()\n",
        "print(Reward)"
      ]
    },
    {
      "cell_type": "code",
      "source": [
        "\n",
        "Rewards =0.0\n",
        "for i in range(600):\n",
        "  rewards = Game1.Test()\n",
        "\n",
        "  Rewards+=rewards\n",
        "\n",
        "Rewards /=600\n",
        "print(Rewards)"
      ],
      "metadata": {
        "colab": {
          "base_uri": "https://localhost:8080/"
        },
        "id": "R3v916Dq3i-J",
        "outputId": "48220ffb-c6f0-47c2-ac28-f477611376dc"
      },
      "execution_count": 31,
      "outputs": [
        {
          "output_type": "stream",
          "name": "stdout",
          "text": [
            "-133.3799101902124\n"
          ]
        }
      ]
    },
    {
      "cell_type": "code",
      "source": [
        "class DuelingDQN(nn.Module):\n",
        "    def __init__(self, input_size, output_size):\n",
        "      super(DuelingDQN, self).__init__()\n",
        "      self.input_size = input_size\n",
        "      self.output_size = output_size\n",
        "\n",
        "\n",
        "      # Define linear layers\n",
        "      self.fc1 = nn.Linear(input_size, 64)\n",
        "      self.relu = nn.ReLU()\n",
        "      self.fc2 = nn.Linear(64, 64)\n",
        "\n",
        "\n",
        "      self.vc1  = nn.Linear(64,32)\n",
        "      self.vc2 = nn.Linear(32,1)\n",
        "\n",
        "      self.ac1 = nn.Linear(64,32)\n",
        "      self.ac2 = nn.Linear(32,output_size)\n",
        "\n",
        "    def forward(self, x):\n",
        "        # Forward pass through the network\n",
        "        x = self.fc1(x)\n",
        "        x = self.relu(x)\n",
        "        x = self.fc2(x)\n",
        "        x = self.relu(x)\n",
        "        V = self.vc1(x)\n",
        "        V =self.relu(V)\n",
        "        V = self.vc2(V)\n",
        "\n",
        "        A = self.ac1(x)\n",
        "        A =self.relu(A)\n",
        "        A = self.ac2(A)\n",
        "\n",
        "        Q_s =V + A - A.mean(dim=-1, keepdim=True).expand(-1, self.output_size)\n",
        "\n",
        "        return Q_s"
      ],
      "metadata": {
        "id": "BR0-DqvDaR69"
      },
      "execution_count": 32,
      "outputs": []
    },
    {
      "cell_type": "code",
      "source": [
        "class DuelingDQN_game:\n",
        "  def __init__(self,output_size,env,gamma,tau,batch_size,decay):\n",
        "\n",
        "    self.output_size = output_size\n",
        "    self.input_size = input_size\n",
        "\n",
        "    self.Primary_Agent = DuelingDQN(self.input_size,self.output_size).to(device)\n",
        "    self.optimizer  = torch.optim.Adam(self.Primary_Agent.parameters(), lr=0.05)\n",
        "\n",
        "    self.Target_Agent = DuelingDQN(self.input_size,self.output_size).to(device)\n",
        "\n",
        "\n",
        "\n",
        "    self.env  =env\n",
        "    self.gamma = gamma\n",
        "    self.tau = tau\n",
        "\n",
        "\n",
        "    self.batch_size = batch_size\n",
        "    self.ExperienceReplayer = ExperienceReplay()\n",
        "    self.target_network_update_period = 4\n",
        "\n",
        "\n",
        "    self.decay = decay\n",
        "    self.max_epsilon =1.0\n",
        "    self.min_epsilon = 0.01\n",
        "    self.ind =0\n",
        "    self.criterion = nn.MSELoss()\n",
        "\n",
        "\n",
        "  def Train(self,episodes):\n",
        "    Episodes = []\n",
        "    Rewards = []\n",
        "    self.episodes = episodes\n",
        "\n",
        "\n",
        "    for episode in tqdm(range(self.episodes)):\n",
        "      self.epsilon = self.min_epsilon + (self.max_epsilon-self.min_epsilon)*np.exp(-self.decay*episode)\n",
        "      Episodes.append(episode)\n",
        "      curr_state = self.env.reset()\n",
        "\n",
        "      curr_state = curr_state[0]\n",
        "\n",
        "      Reward =0\n",
        "\n",
        "      while(True):\n",
        "\n",
        "        curr_state = torch.tensor(curr_state, dtype=torch.float32)\n",
        "        observation = torch.unsqueeze(curr_state, dim=0).to(device)\n",
        "\n",
        "        Q_value = self.Primary_Agent.forward(observation)\n",
        "\n",
        "\n",
        "        final_action = np.argmax(Q_value.cpu().detach().numpy(),axis=1)[0]\n",
        "\n",
        "\n",
        "\n",
        "\n",
        "        random_variable = np.random.random()\n",
        "        if(random_variable<=self.epsilon):\n",
        "          final_action = random.randint(0, 3)\n",
        "\n",
        "\n",
        "\n",
        "\n",
        "        next_state, reward, terminated,truncated,info = self.env.step(final_action)\n",
        "        Reward+=reward\n",
        "        if(terminated or truncated):\n",
        "          done =1\n",
        "        else:\n",
        "          done=0\n",
        "\n",
        "        next_state = torch.tensor(curr_state, dtype=torch.float32)\n",
        "        self.ExperienceReplayer.push(curr_state,torch.tensor(final_action,dtype=torch.int64),reward,next_state,done)\n",
        "        curr_state = next_state\n",
        "\n",
        "\n",
        "\n",
        "        if(self.ExperienceReplayer.__len__()>=self.batch_size):\n",
        "\n",
        "          Batch = self.ExperienceReplayer.sample(self.batch_size)\n",
        "          current_states,actions,rewards,next_states,done  = zip(*Batch)\n",
        "\n",
        "\n",
        "\n",
        "\n",
        "          current_states = torch.stack(current_states, dim=0).to(device)\n",
        "          next_states = torch.stack(next_states,dim=0).to(device)\n",
        "          actions = torch.tensor(actions,dtype=torch.int64).to(device)\n",
        "          rewards = torch.tensor(rewards, dtype=torch.float32).to(device)\n",
        "          done = torch.tensor(done,dtype=torch.float32).to(device)\n",
        "\n",
        "\n",
        "\n",
        "          Q1_value= self.Target_Agent.forward(next_states)\n",
        "          Next_best_actions = np.argmax(Q1_value.cpu().detach().numpy(),axis=1)\n",
        "          Next_best_actions = torch.tensor(Next_best_actions,dtype=torch.int64).to(device)\n",
        "\n",
        "\n",
        "\n",
        "          Next_Q_values = self.Primary_Agent.forward(next_states)\n",
        "          Current_Q_values = self.Primary_Agent.forward(current_states)\n",
        "          Primary_Q_values = Current_Q_values.gather(1,actions.unsqueeze(1))\n",
        "\n",
        "          Q_values  = Next_Q_values.gather(1,Next_best_actions.unsqueeze(1))\n",
        "          A = self.gamma*Q_values\n",
        "          B  = (1-done).unsqueeze(1)\n",
        "          C = A*B\n",
        "          rewards = rewards.unsqueeze(1)\n",
        "\n",
        "          Expected_Q_values =  rewards+C\n",
        "\n",
        "\n",
        "\n",
        "\n",
        "          Batch_loss = self.criterion(Primary_Q_values,Expected_Q_values)\n",
        "\n",
        "          self.optimizer.zero_grad()\n",
        "          Batch_loss.backward()\n",
        "\n",
        "          # Update model parameters\n",
        "          self.optimizer.step()\n",
        "          Next_best_actions = Next_best_actions.cpu()\n",
        "          current_states = current_states.cpu()\n",
        "          next_states = next_states.cpu()\n",
        "          actions = actions.cpu()\n",
        "          rewards = rewards.cpu()\n",
        "          done = done.cpu()\n",
        "\n",
        "\n",
        "\n",
        "        observation = observation.cpu()\n",
        "\n",
        "\n",
        "        if((self.ind% self.target_network_update_period)):\n",
        "\n",
        "          self.Target_Agent.load_state_dict(self.Primary_Agent.state_dict())\n",
        "\n",
        "\n",
        "\n",
        "        self.ind+=1\n",
        "        if(terminated or truncated):\n",
        "          Rewards.append(Reward)\n",
        "          break\n",
        "    #   # print(\"Episode reward : \"  ,Reward)\n",
        "\n",
        "    plt.plot(Episodes, Rewards, label='Line Plot')\n",
        "\n",
        "    # Add labels and title\n",
        "    plt.xlabel('Episode')\n",
        "    plt.ylabel('Episode Reward')\n",
        "    plt.title('Dueling Reward vs Episodes')\n",
        "\n",
        "    # Add a legend\n",
        "    plt.legend()\n",
        "\n",
        "    # Display the plot\n",
        "    plt.show()\n",
        "\n",
        "\n",
        "\n",
        "\n",
        "\n",
        "  def Test(self):\n",
        "    curr_state = self.env.reset()\n",
        "\n",
        "    curr_state = curr_state[0]\n",
        "\n",
        "    Reward =0\n",
        "    ind=0\n",
        "    while(True):\n",
        "      curr_state = torch.tensor(curr_state, dtype=torch.float32)\n",
        "      observation = torch.unsqueeze(curr_state, dim=0).to(device)\n",
        "\n",
        "      Q_value = self.Primary_Agent.forward(observation)\n",
        "\n",
        "      final_action = np.argmax(Q_value.cpu().detach().numpy(),axis=1)[0]\n",
        "\n",
        "      next_state, reward, terminated,truncated,info = self.env.step(final_action)\n",
        "      Reward+=reward\n",
        "\n",
        "\n",
        "      ind+=1\n",
        "      if(truncated or terminated):\n",
        "        break\n",
        "      curr_state = next_state\n",
        "\n",
        "    return Reward\n",
        "\n",
        "\n",
        "\n",
        "\n",
        "\n",
        "\n",
        "\n",
        "\n",
        "\n",
        "\n",
        "\n",
        "\n",
        "\n",
        "\n"
      ],
      "metadata": {
        "id": "t7u-ixuj57LX"
      },
      "execution_count": 33,
      "outputs": []
    },
    {
      "cell_type": "code",
      "source": [
        "#lists all devices being used in this cell->helps verify if gpu is being used\n",
        "env = gym.make( \"LunarLander-v2\")\n",
        "gamma=0.99\n",
        "tau=0.4\n",
        "Episodes=1000\n",
        "batch_size = 64\n",
        "input_size = 8\n",
        "output_size=4\n",
        "\n",
        "decay = 0.4\n",
        "Game2 = DuelingDQN_game(output_size,env,gamma,tau,batch_size,decay)\n",
        "Game2.Train(Episodes)\n",
        "Reward = Game2.Test()\n",
        "print(Reward)"
      ],
      "metadata": {
        "id": "fssJoh7GhYQG",
        "colab": {
          "base_uri": "https://localhost:8080/",
          "height": 596
        },
        "outputId": "95ff15f7-89e0-4d3e-817c-5a4590cbdb90"
      },
      "execution_count": 34,
      "outputs": [
        {
          "output_type": "stream",
          "name": "stderr",
          "text": [
            "  0%|          | 0/1000 [00:00<?, ?it/s]<ipython-input-33-fa483076d6c8>:73: UserWarning: To copy construct from a tensor, it is recommended to use sourceTensor.clone().detach() or sourceTensor.clone().detach().requires_grad_(True), rather than torch.tensor(sourceTensor).\n",
            "  next_state = torch.tensor(curr_state, dtype=torch.float32)\n",
            "<ipython-input-33-fa483076d6c8>:48: UserWarning: To copy construct from a tensor, it is recommended to use sourceTensor.clone().detach() or sourceTensor.clone().detach().requires_grad_(True), rather than torch.tensor(sourceTensor).\n",
            "  curr_state = torch.tensor(curr_state, dtype=torch.float32)\n",
            "100%|██████████| 1000/1000 [03:48<00:00,  4.38it/s]\n"
          ]
        },
        {
          "output_type": "display_data",
          "data": {
            "text/plain": [
              "<Figure size 640x480 with 1 Axes>"
            ],
            "image/png": "[encoded data removed]"
          },
          "metadata": {}
        },
        {
          "output_type": "stream",
          "name": "stdout",
          "text": [
            "-514.0721153611544\n"
          ]
        }
      ]
    },
    {
      "cell_type": "code",
      "source": [
        "\n",
        "Rewards =0.0\n",
        "for i in range(600):\n",
        "  rewards = Game2.Test()\n",
        "\n",
        "  Rewards+=rewards\n",
        "\n",
        "Rewards /=600\n",
        "print(Rewards)"
      ],
      "metadata": {
        "colab": {
          "base_uri": "https://localhost:8080/"
        },
        "id": "9N1vSFrUtp34",
        "outputId": "a9581c3a-bbcf-4d61-c9fc-82ce77ded104"
      },
      "execution_count": 37,
      "outputs": [
        {
          "output_type": "stream",
          "name": "stderr",
          "text": [
            "/usr/local/lib/python3.10/dist-packages/ipykernel/ipkernel.py:283: DeprecationWarning: `should_run_async` will not call `transform_cell` automatically in the future. Please pass the result to `transformed_cell` argument and any exception that happen during thetransform in `preprocessing_exc_tuple` in IPython 7.17 and above.\n",
            "  and should_run_async(code)\n"
          ]
        },
        {
          "output_type": "stream",
          "name": "stdout",
          "text": [
            "-578.924325556876\n"
          ]
        }
      ]
    },
    {
      "cell_type": "code",
      "source": [],
      "metadata": {
        "id": "8vfjqMKDugM9"
      },
      "execution_count": null,
      "outputs": []
    }
  ],
  "metadata": {
    "accelerator": "GPU",
    "colab": {
      "provenance": []
    },
    "kernelspec": {
      "display_name": "Python 3",
      "name": "python3"
    },
    "language_info": {
      "name": "python"
    }
  },
  "nbformat": 4,
  "nbformat_minor": 0
}